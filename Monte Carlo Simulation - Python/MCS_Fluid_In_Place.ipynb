{
 "cells": [
  {
   "cell_type": "code",
   "execution_count": 172,
   "id": "2a5cde1b",
   "metadata": {},
   "outputs": [],
   "source": [
    "import numpy as np\n",
    "import matplotlib.pyplot as plt\n",
    "import pandas as pd\n",
    "import math\n",
    "import scipy\n",
    "import random\n",
    "from scipy.optimize import curve_fit\n",
    "from pandas import DataFrame"
   ]
  },
  {
   "cell_type": "code",
   "execution_count": 173,
   "id": "ffe2c9d3",
   "metadata": {},
   "outputs": [],
   "source": [
    "def monte_carlo_ooip(num_simulations, area, thickness, porosity,water_saturation, formation_volume_factor, recovery_factor):\n",
    "    \n",
    "    \"\"\"\n",
    "    Perform MCS\n",
    "    \"\"\"\n",
    "    \n",
    "    ooip_results = []\n",
    "    rv_results = []\n",
    "    A_results = []\n",
    "    h_results = []\n",
    "    phi_results = []\n",
    "    Sw_results = []\n",
    "    B_results = []\n",
    "    RF_results = []\n",
    "    \n",
    "    for x in range(num_simulations):\n",
    "        if area[0] == 'u': \n",
    "            A = np.random.uniform(area[1], area[2])\n",
    "        elif area[0] == 'n': \n",
    "            A = np.random.normal(area[1], area[2])\n",
    "        else: \n",
    "            A = np.random.normal(area[1], area[2])\n",
    "        \n",
    "        if thickness[0] == 'u': \n",
    "            h = np.random.uniform(thickness[1], thickness[2])\n",
    "        elif thickness[0] == 'n': \n",
    "            h = np.random.normal(thickness[1], thickness[2])\n",
    "        else: \n",
    "            h = np.random.normal(thickness[1], thickness[2])\n",
    "        \n",
    "        if porosity[0] == 'u': \n",
    "            phi = np.random.uniform(porosity[1], porosity[2])\n",
    "        elif porosity[0] == 'n': \n",
    "            phi = np.random.normal(porosity[1], porosity[2])\n",
    "        else: \n",
    "            phi = np.random.normal(porosity[1], porosity[2]) \n",
    "            \n",
    "        if water_saturation[0] == 'u': \n",
    "            Sw = np.random.uniform(water_saturation[1], water_saturation[2])\n",
    "        elif water_saturation[0] == 'n': \n",
    "            Sw = np.random.normal(water_saturation[1], water_saturation[2])\n",
    "        else: \n",
    "            Sw = np.random.normal(water_saturation[1], water_saturation[2])    \n",
    "            \n",
    "        if formation_volume_factor[0] == 'u': \n",
    "            B = np.random.uniform(formation_volume_factor[1], formation_volume_factor[2])\n",
    "        elif formation_volume_factor[0] == 'n': \n",
    "            B = np.random.normal(formation_volume_factor[1], formation_volume_factor[2])\n",
    "        else: \n",
    "            B = np.random.normal(formation_volume_factor[1], formation_volume_factor[2])\n",
    "        \n",
    "        if recovery_factor[0] == 'u': \n",
    "            RF = np.random.uniform(recovery_factor[1], recovery_factor[2])\n",
    "        elif recovery_factor[1] == 'n': \n",
    "            RF = np.random.normal(recovery_factor[1], recovery_factor[2])\n",
    "        else: \n",
    "            RF = np.random.normal(recovery_factor[1], recovery_factor[2])\n",
    "               \n",
    "        OOIP = (A * h * phi * (1 - Sw)) / B\n",
    "        RV = OOIP * RF\n",
    "        ooip_results.append(OOIP)\n",
    "        rv_results.append(RV)\n",
    "        A_results.append(A)\n",
    "        h_results.append(h)\n",
    "        phi_results.append(phi)\n",
    "        Sw_results.append(Sw)\n",
    "        B_results.append(B)\n",
    "        RF_results.append(RF)\n",
    "    \n",
    "    return ooip_results, rv_results, A_results, h_results, phi_results, Sw_results, B_results, RF_results"
   ]
  },
  {
   "cell_type": "code",
   "execution_count": 174,
   "id": "98d53084",
   "metadata": {},
   "outputs": [
    {
     "name": "stdout",
     "output_type": "stream",
     "text": [
      "Average Original Oil in Place (OOIP): 3678.8431562667124 std. m3\n",
      "Average Recoverable Volume: 1113.5638019847643 std. m3\n"
     ]
    }
   ],
   "source": [
    "\"\"\"\n",
    "Input format:\n",
    "if distribution = normal --> 'n', mean, sigma\n",
    "if distribution = uniform --> 'u', min, max\n",
    "\"\"\"\n",
    "num_simulations = 2000\n",
    "area = ('u', 100, 500)  # m3\n",
    "thickness = ('n', 100, 10)  # m3\n",
    "porosity = ('n', 0.2, 0.05)  # fraction\n",
    "water_saturation = ('n', 0.3, 0.07)  # fraction\n",
    "formation_volume_factor = ('u', 1.1, 1.2) # m3/std.m3\n",
    "recovery_factor = ('n', 0.3, 0.05)\n",
    "\n",
    "ooip, rv, A, h, phi, Sw, B, RF = monte_carlo_ooip(num_simulations, area, thickness,\n",
    "                                  porosity, water_saturation,\n",
    "                                  formation_volume_factor, recovery_factor)\n",
    "\n",
    "\n",
    "print(\"Average Original Oil in Place (OOIP):\", np.mean(ooip), \"std. m3\")\n",
    "print(\"Average Recoverable Volume:\", np.mean(rv), \"std. m3\")\n"
   ]
  },
  {
   "cell_type": "code",
   "execution_count": 180,
   "id": "90521f05",
   "metadata": {},
   "outputs": [
    {
     "data": {
      "image/png": "[encoded data removed]",
      "text/plain": [
       "<Figure size 432x288 with 6 Axes>"
      ]
     },
     "metadata": {
      "needs_background": "light"
     },
     "output_type": "display_data"
    }
   ],
   "source": [
    "# Create histograms\n",
    "fig, ax = plt.subplots(3, 2)\n",
    "\n",
    "ax[0, 0].hist(ooip, bins=10, edgecolor='black')\n",
    "ax[0, 0].set_xlabel('Bins - OOIP ($\\mathregular{std. m^{3}}$)')\n",
    "ax[0, 0].set_title('Histogram')\n",
    "ax[0, 0].set_ylabel('Frequency')\n",
    "\n",
    "ax[0, 1].hist(phi, bins=10, edgecolor='black')\n",
    "ax[0, 1].set_xlabel('Bins - porosity')\n",
    "ax[0, 1].set_title('Histogram')\n",
    "ax[0, 1].set_ylabel('Frequency')\n",
    "\n",
    "ax[1, 0].hist(A, bins=10, edgecolor='black')\n",
    "ax[1, 0].set_xlabel('Bins - A ($\\mathregular{m^{2}}$)')\n",
    "ax[1, 0].set_title('Histogram')\n",
    "ax[1, 0].set_ylabel('Frequency')\n",
    "\n",
    "ax[1, 1].hist(h, bins=10, edgecolor='black')\n",
    "ax[1, 1].set_xlabel('Bins - h (m)')\n",
    "ax[1, 1].set_title('Histogram')\n",
    "ax[1, 1].set_ylabel('Frequency')\n",
    "\n",
    "ax[2, 0].hist(B, bins=10, edgecolor='black')\n",
    "ax[2, 0].set_xlabel('Bins - B')\n",
    "ax[2, 0].set_title('Histogram')\n",
    "ax[2, 0].set_ylabel('Frequency')\n",
    "\n",
    "ax[2, 1].hist(Sw, bins=10, edgecolor='black')\n",
    "ax[2, 1].set_xlabel('Bins - Sw')\n",
    "ax[2, 1].set_title('Histogram')\n",
    "ax[2, 1].set_ylabel('Frequency')\n",
    "\n",
    "fig.tight_layout()\n",
    "plt.show()"
   ]
  },
  {
   "cell_type": "code",
   "execution_count": 181,
   "id": "567aa56a",
   "metadata": {},
   "outputs": [],
   "source": [
    "df = pd.DataFrame({'A' : A, 'h' : h, 'φ' : φ, 'Sw' : Sw, 'B' : B, 'RF' : RF})\n",
    "df.to_excel(\"output.xlsx\",sheet_name='MCS')"
   ]
  },
  {
   "cell_type": "code",
   "execution_count": 182,
   "id": "1290e31a",
   "metadata": {},
   "outputs": [],
   "source": [
    "def tornado_chart(data_left, data_right, labels, title):\n",
    "    \n",
    "    \"\"\"\n",
    "    Create a Tornado Chart\n",
    "    \"\"\"\n",
    "    \n",
    "    fig, ax = plt.subplots()\n",
    "    y_pos = range(len(data_left))  # Positions for the bars on the y-axis\n",
    "\n",
    "    # Plot the left-side bars (negative values)\n",
    "    ax.barh(y_pos, data_left, align='center', color='blue', alpha=0.8, label='Negative')\n",
    "\n",
    "    # Plot the right-side bars (postive values)\n",
    "    ax.barh(y_pos, data_right, align='center', color='red', alpha=0.8, label='Positive')\n",
    "    ax.set_yticks(y_pos)\n",
    "    ax.set_yticklabels(labels)\n",
    "    ax.set_xlabel('Values')\n",
    "    ax.set_title(title)\n",
    "    ax.legend()\n",
    "    plt.show()"
   ]
  },
  {
   "cell_type": "code",
   "execution_count": 183,
   "id": "29ea8dbc",
   "metadata": {},
   "outputs": [
    {
     "data": {
      "image/png": "[encoded data removed]",
      "text/plain": [
       "<Figure size 432x288 with 1 Axes>"
      ]
     },
     "metadata": {
      "needs_background": "light"
     },
     "output_type": "display_data"
    }
   ],
   "source": [
    "# Create the Tornado Chart\n",
    "\n",
    "# Calculate mean scenario\n",
    "mean_scenario = (np.mean(A) * np.mean(h) * np.mean(phi) * (1 - np.mean(Sw))) / np.mean(B)\n",
    "\n",
    "# Calculate the negative values\n",
    "A_left =  (np.min(A) * np.mean(h) * np.mean(phi) * (1 - np.mean(Sw))) / np.mean(B) - mean_scenario\n",
    "h_left = (np.mean(A) * np.min(h) * np.mean(phi) * (1 - np.mean(Sw))) / np.mean(B) - mean_scenario\n",
    "phi_left = (np.mean(A) * np.mean(h) * np.min(phi) * (1 - np.mean(Sw))) / np.mean(B) - mean_scenario\n",
    "B_left = (np.mean(A) * np.mean(h) * np.mean(phi) * (1 - np.mean(Sw))) / np.max(B) - mean_scenario\n",
    "Sw_left = (np.mean(A) * np.mean(h) * np.mean(phi) * (1 - np.max(Sw))) / np.mean(B) - mean_scenario                        \n",
    "\n",
    "# Calculate the positive values\n",
    "A_right =  (np.max(A) * np.mean(h) * np.mean(phi) * (1 - np.mean(Sw))) / np.mean(B) - mean_scenario\n",
    "h_right = (np.mean(A) * np.max(h) * np.mean(phi) * (1 - np.mean(Sw))) / np.mean(B) - mean_scenario\n",
    "phi_right = (np.mean(A) * np.mean(h) * np.max(phi) * (1 - np.mean(Sw))) / np.mean(B) - mean_scenario\n",
    "B_right = (np.mean(A) * np.mean(h) * np.mean(phi) * (1 - np.mean(Sw))) / np.min(B) - mean_scenario\n",
    "Sw_right = (np.mean(A) * np.mean(h) * np.mean(phi) * (1 - np.min(Sw))) / np.mean(B) - mean_scenario   \n",
    "\n",
    "data_left = [A_left, h_left, phi_left, B_left, Sw_left]\n",
    "data_right = [A_right, h_right, phi_right, B_right, Sw_right]\n",
    "labels = ['A', 'h', 'phi', 'B', 'Sw']\n",
    "\n",
    "tornado_chart(data_left, data_right, labels, 'Tornado Chart')"
   ]
  },
  {
   "cell_type": "code",
   "execution_count": null,
   "id": "49af9986",
   "metadata": {},
   "outputs": [],
   "source": []
  }
 ],
 "metadata": {
  "kernelspec": {
   "display_name": "Python 3 (ipykernel)",
   "language": "python",
   "name": "python3"
  },
  "language_info": {
   "codemirror_mode": {
    "name": "ipython",
    "version": 3
   },
   "file_extension": ".py",
   "mimetype": "text/x-python",
   "name": "python",
   "nbconvert_exporter": "python",
   "pygments_lexer": "ipython3",
   "version": "3.9.7"
  }
 },
 "nbformat": 4,
 "nbformat_minor": 5
}
